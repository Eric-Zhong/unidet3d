{
 "cells": [
  {
   "cell_type": "markdown",
   "metadata": {},
   "source": [
    "# 安装"
   ]
  },
  {
   "cell_type": "markdown",
   "metadata": {},
   "source": [
    "## Python 3.8\n",
    "\n",
    "```\n",
    "conda create -n unidet3d python=3.8\n",
    "conda activate unidet3d\n",
    "conda install openblas-devel -c anaconda\n",
    "conda install pytorch=1.9.0 torchvision cudatoolkit=11.1 -c pytorch -c nvidia\n",
    "```"
   ]
  },
  {
   "cell_type": "markdown",
   "metadata": {},
   "source": [
    "## Cuda Toolkit 11.1\n",
    "\n",
    "选一种方式\n",
    "\n",
    "Runfile:\n",
    "\n",
    "```\n",
    "wget https://developer.download.nvidia.com/compute/cuda/12.4.0/local_installers/cuda_12.4.0_550.54.14_linux.run\n",
    "sudo sh cuda_12.4.0_550.54.14_linux.run\n",
    "```\n",
    "\n",
    "Loca:\n",
    "\n",
    "```\n",
    "wget https://developer.download.nvidia.com/compute/cuda/repos/ubuntu2004/x86_64/cuda-ubuntu2004.pin\n",
    "sudo mv cuda-ubuntu2004.pin /etc/apt/preferences.d/cuda-repository-pin-600\n",
    "wget https://developer.download.nvidia.com/compute/cuda/11.1.0/local_installers/cuda-repo-ubuntu2004-11-1-local_11.1.0-455.23.05-1_amd64.deb\n",
    "sudo dpkg -i cuda-repo-ubuntu2004-11-1-local_11.1.0-455.23.05-1_amd64.deb\n",
    "sudo apt-key add /var/cuda-repo-ubuntu2004-11-1-local/7fa2af80.pub\n",
    "sudo apt-get update\n",
    "sudo apt-get -y install cuda\n",
    "```"
   ]
  },
  {
   "cell_type": "markdown",
   "metadata": {},
   "source": [
    "## PATH\n",
    "\n",
    "```\n",
    "export CUDA_HOME=\"/usr/local/cuda/bin\"\n",
    "export PATH=\"$CUDA_HOME:$PATH\"\n",
    "```"
   ]
  },
  {
   "cell_type": "markdown",
   "metadata": {},
   "source": [
    "## MinkowskiEngine"
   ]
  },
  {
   "cell_type": "markdown",
   "metadata": {},
   "source": [
    "##\n",
    "\n",
    "Not download\n",
    "\n",
    "```\n",
    "pip install -U git+https://github.com/NVIDIA/MinkowskiEngine -v --no-deps --install-option=\"--blas_include_dirs=${CONDA_PREFIX}/include\" --install-option=\"--blas=openblas\"\n",
    "```\n",
    "\n",
    "Already downloaded\n",
    "\n",
    "```\n",
    "# new pip version\n",
    "python setup.py install --blas_include_dirs=${CONDA_PREFIX}/include --blas=openblas\n",
    "\n",
    "# pip install -U . -v --no-deps --config-settings=\"--blas_include_dirs=${CONDA_PREFIX}/include\" --config-settings=\"--blas=openblas\"\n",
    "\n",
    "# pip install -U . -v --no-deps --install-option=\"--blas_include_dirs=${CONDA_PREFIX}/include\" --install-option=\"--blas=openblas\"\n",
    "```"
   ]
  },
  {
   "cell_type": "markdown",
   "metadata": {},
   "source": [
    "## Check\n",
    "\n",
    "```\n",
    "conda list | grep minkowskiengine\n",
    "\n",
    "python\n",
    "\n",
    "import MinkowskiEngine as ME\n",
    "ME.__version__\n",
    "'0.5.4'\n",
    "```"
   ]
  }
 ],
 "metadata": {
  "kernelspec": {
   "display_name": "Python 3",
   "language": "python",
   "name": "python3"
  },
  "language_info": {
   "name": "python",
   "version": "3.12.7"
  }
 },
 "nbformat": 4,
 "nbformat_minor": 2
}
